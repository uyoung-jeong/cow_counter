{
 "cells": [
  {
   "cell_type": "code",
   "execution_count": 2,
   "id": "d2135441",
   "metadata": {},
   "outputs": [],
   "source": [
    "import pandas as pd\n",
    "import matplotlib.pyplot as plt\n",
    "    "
   ]
  },
  {
   "cell_type": "code",
   "execution_count": 3,
   "id": "b8988167",
   "metadata": {},
   "outputs": [
    {
     "name": "stdout",
     "output_type": "stream",
     "text": [
      "      model svr kernel mlp hidden sizes #svd component #kmeans cluster  \\\n",
      "0       svr        rbf                -              -               -   \n",
      "1       svr     linear                -              -               -   \n",
      "2       svr       poly              NaN            NaN             NaN   \n",
      "3       svr    sigmoid              NaN            NaN             NaN   \n",
      "4       svr        rbf                -              5               -   \n",
      "5       svr        rbf                -             10               -   \n",
      "6       svr        rbf                -             20               -   \n",
      "7       svr        rbf                -             30               -   \n",
      "8       svr        rbf                -             40               -   \n",
      "9       svr        rbf                -             50               -   \n",
      "10      svr        rbf                -              -               5   \n",
      "11      svr        rbf                -              -              10   \n",
      "12      svr        rbf                -              -              20   \n",
      "13      svr        rbf                -              -              30   \n",
      "14      svr        rbf                -              -              40   \n",
      "15      svr        rbf                -              -              50   \n",
      "16      svr        rbf                -              5               5   \n",
      "17      svr        rbf                -             10              10   \n",
      "18      svr        rbf                -             20              20   \n",
      "19      svr        rbf                -             30              30   \n",
      "20      svr        rbf                -             40              40   \n",
      "21      svr        rbf                -             50              50   \n",
      "22      mlp        NaN            [100]              -               -   \n",
      "23      mlp        NaN            [100]              5               -   \n",
      "24      mlp        NaN            [100]             10               -   \n",
      "25      mlp        NaN            [100]             20               -   \n",
      "26      mlp        NaN            [100]             30               -   \n",
      "27      mlp        NaN            [100]             40               -   \n",
      "28      mlp        NaN            [100]             50               -   \n",
      "29      mlp        NaN            [100]              -               5   \n",
      "30      mlp        NaN            [100]              -              10   \n",
      "31      mlp        NaN            [100]              -              20   \n",
      "32      mlp        NaN            [100]              -              30   \n",
      "33      mlp        NaN            [100]              -              40   \n",
      "34      mlp        NaN            [100]              -              50   \n",
      "35      mlp        NaN            [100]              5               5   \n",
      "36      mlp        NaN            [100]             10              10   \n",
      "37      mlp        NaN            [100]             20              20   \n",
      "38      mlp        NaN            [100]             30              30   \n",
      "39      mlp        NaN            [100]             40              40   \n",
      "40      mlp        NaN            [100]             50              50   \n",
      "41      mlp        NaN            [200]              -               -   \n",
      "42      mlp        NaN            [300]              -               -   \n",
      "43      mlp        NaN            [400]              -               -   \n",
      "44      mlp        NaN            [500]              -               -   \n",
      "45      mlp        NaN        [100,100]              -               -   \n",
      "46      mlp        NaN        [200,100]              -               -   \n",
      "47      mlp        NaN        [200,200]              -               -   \n",
      "48  mlp+svr        rbf            [100]              -               -   \n",
      "49  mlp+svr        rbf        [100,100]              -               -   \n",
      "50  mlp+svr       poly            [100]              -               -   \n",
      "51  mlp+svr        rbf            [100]              -              10   \n",
      "\n",
      "      rmse      ap      ar  \n",
      "0   4.2581  0.5290  0.9092  \n",
      "1   4.3907  0.5760  0.8735  \n",
      "2   4.2750  0.5158  0.9143  \n",
      "3   4.5672  0.5829  0.8066  \n",
      "4   4.2524  0.5286  0.9091  \n",
      "5   4.2568  0.5280  0.9091  \n",
      "6   4.2526  0.5287  0.9099  \n",
      "7   4.2513  0.5289  0.9087  \n",
      "8   4.2536  0.5283  0.9092  \n",
      "9   4.2499  0.5286  0.9096  \n",
      "10  4.2564  0.5280  0.9094  \n",
      "11  4.2513  0.5288  0.9090  \n",
      "12  4.2435  0.5298  0.9085  \n",
      "13  4.2405  0.5289  0.9090  \n",
      "14  4.2439  0.5285  0.9093  \n",
      "15  4.2385  0.5282  0.9093  \n",
      "16  4.2495  0.5283  0.9095  \n",
      "17  4.2507  0.5285  0.9092  \n",
      "18  4.2451  0.5283  0.9090  \n",
      "19  4.2392  0.5285  0.9095  \n",
      "20  4.2390  0.5285  0.9084  \n",
      "21  4.2323  0.5287  0.9099  \n",
      "22  4.1692  0.6054  0.8524  \n",
      "23  4.0415  0.6775  0.8141  \n",
      "24  4.2079  0.7256  0.7498  \n",
      "25  4.0404  0.6734  0.8118  \n",
      "26  4.6270  0.5380  0.6112  \n",
      "27  5.1794  0.4631  0.4315  \n",
      "28  4.0015  0.6542  0.8323  \n",
      "29  4.0405  0.6795  0.8117  \n",
      "30  4.5036  0.8296  0.6708  \n",
      "31  4.1866  0.7484  0.7503  \n",
      "32  4.2537  0.7859  0.7265  \n",
      "33  4.0937  0.6570  0.8231  \n",
      "34  4.0889  0.6444  0.8265  \n",
      "35  4.3642  0.5528  0.6425  \n",
      "36  4.0963  0.6481  0.8141  \n",
      "37  4.3194  0.7229  0.7563  \n",
      "38  4.8041  0.6153  0.5713  \n",
      "39  4.0250  0.6577  0.8191  \n",
      "40  5.0266  0.3787  0.4987  \n",
      "41  4.0036  0.6278  0.8505  \n",
      "42  4.4595  0.5043  0.6792  \n",
      "43  4.1400  0.6241  0.8188  \n",
      "44  3.9341  0.6369  0.8438  \n",
      "45  3.9722  0.6299  0.8501  \n",
      "46  4.0496  0.6600  0.8288  \n",
      "47  4.3842  0.5902  0.7534  \n",
      "48  4.1268  0.6019  0.7970  \n",
      "49  4.7727  0.6269  0.7411  \n",
      "50  8.0486  0.5110  0.8846  \n",
      "51  4.3414  0.6461  0.7008  \n"
     ]
    }
   ],
   "source": [
    "var = pd.read_excel(\"experiment.xlsx\")\n",
    "print(var)"
   ]
  },
  {
   "cell_type": "code",
   "execution_count": 5,
   "id": "f56eb35a",
   "metadata": {},
   "outputs": [
    {
     "data": {
      "image/png": "[encoded data removed]",
      "text/plain": [
       "<Figure size 640x480 with 1 Axes>"
      ]
     },
     "metadata": {},
     "output_type": "display_data"
    }
   ],
   "source": [
    "plt.plot(var['rmse'])\n",
    "var.head()\n",
    "plt.show()"
   ]
  },
  {
   "cell_type": "code",
   "execution_count": 7,
   "id": "ccabba37",
   "metadata": {},
   "outputs": [
    {
     "ename": "KeyError",
     "evalue": "'svr_kernel'",
     "output_type": "error",
     "traceback": [
      "\u001b[1;31m---------------------------------------------------------------------------\u001b[0m",
      "\u001b[1;31mKeyError\u001b[0m                                  Traceback (most recent call last)",
      "File \u001b[1;32m~\\AppData\\Local\\Programs\\Python\\Python310\\lib\\site-packages\\pandas\\core\\indexes\\base.py:3800\u001b[0m, in \u001b[0;36mIndex.get_loc\u001b[1;34m(self, key, method, tolerance)\u001b[0m\n\u001b[0;32m   3799\u001b[0m \u001b[38;5;28;01mtry\u001b[39;00m:\n\u001b[1;32m-> 3800\u001b[0m     \u001b[38;5;28;01mreturn\u001b[39;00m \u001b[38;5;28;43mself\u001b[39;49m\u001b[38;5;241;43m.\u001b[39;49m\u001b[43m_engine\u001b[49m\u001b[38;5;241;43m.\u001b[39;49m\u001b[43mget_loc\u001b[49m\u001b[43m(\u001b[49m\u001b[43mcasted_key\u001b[49m\u001b[43m)\u001b[49m\n\u001b[0;32m   3801\u001b[0m \u001b[38;5;28;01mexcept\u001b[39;00m \u001b[38;5;167;01mKeyError\u001b[39;00m \u001b[38;5;28;01mas\u001b[39;00m err:\n",
      "File \u001b[1;32m~\\AppData\\Local\\Programs\\Python\\Python310\\lib\\site-packages\\pandas\\_libs\\index.pyx:138\u001b[0m, in \u001b[0;36mpandas._libs.index.IndexEngine.get_loc\u001b[1;34m()\u001b[0m\n",
      "File \u001b[1;32m~\\AppData\\Local\\Programs\\Python\\Python310\\lib\\site-packages\\pandas\\_libs\\index.pyx:165\u001b[0m, in \u001b[0;36mpandas._libs.index.IndexEngine.get_loc\u001b[1;34m()\u001b[0m\n",
      "File \u001b[1;32mpandas\\_libs\\hashtable_class_helper.pxi:5745\u001b[0m, in \u001b[0;36mpandas._libs.hashtable.PyObjectHashTable.get_item\u001b[1;34m()\u001b[0m\n",
      "File \u001b[1;32mpandas\\_libs\\hashtable_class_helper.pxi:5753\u001b[0m, in \u001b[0;36mpandas._libs.hashtable.PyObjectHashTable.get_item\u001b[1;34m()\u001b[0m\n",
      "\u001b[1;31mKeyError\u001b[0m: 'svr_kernel'",
      "\nThe above exception was the direct cause of the following exception:\n",
      "\u001b[1;31mKeyError\u001b[0m                                  Traceback (most recent call last)",
      "Cell \u001b[1;32mIn [7], line 1\u001b[0m\n\u001b[1;32m----> 1\u001b[0m ax \u001b[38;5;241m=\u001b[39m var[(\u001b[43mvar\u001b[49m\u001b[43m[\u001b[49m\u001b[38;5;124;43m'\u001b[39;49m\u001b[38;5;124;43msvr_kernel\u001b[39;49m\u001b[38;5;124;43m'\u001b[39;49m\u001b[43m]\u001b[49m \u001b[38;5;241m==\u001b[39m \u001b[38;5;124m'\u001b[39m\u001b[38;5;124mpoly\u001b[39m\u001b[38;5;124m'\u001b[39m)\u001b[38;5;241m|\u001b[39m(var[\u001b[38;5;124m'\u001b[39m\u001b[38;5;124msvr_kernel\u001b[39m\u001b[38;5;124m'\u001b[39m]\u001b[38;5;241m==\u001b[39m\u001b[38;5;124m'\u001b[39m\u001b[38;5;124mlinear\u001b[39m\u001b[38;5;124m'\u001b[39m)],plot(x\u001b[38;5;241m=\u001b[39m\u001b[38;5;124m'\u001b[39m\u001b[38;5;124msvr_kernel\u001b[39m\u001b[38;5;124m'\u001b[39m,y\u001b[38;5;241m=\u001b[39m\u001b[38;5;124m'\u001b[39m\u001b[38;5;124mrmse\u001b[39m\u001b[38;5;124m'\u001b[39m)\n\u001b[0;32m      2\u001b[0m ax\u001b[38;5;241m.\u001b[39mset_ylabel(\u001b[38;5;124m'\u001b[39m\u001b[38;5;124mSVR\u001b[39m\u001b[38;5;124m'\u001b[39m) \u001b[38;5;66;03m#Labeling y-axis\u001b[39;00m\n\u001b[0;32m      3\u001b[0m ax\u001b[38;5;241m.\u001b[39mset_xlabel(\u001b[38;5;124m'\u001b[39m\u001b[38;5;124mRMSE\u001b[39m\u001b[38;5;124m'\u001b[39m) \u001b[38;5;66;03m#Labeling x-axis\u001b[39;00m\n",
      "File \u001b[1;32m~\\AppData\\Local\\Programs\\Python\\Python310\\lib\\site-packages\\pandas\\core\\frame.py:3805\u001b[0m, in \u001b[0;36mDataFrame.__getitem__\u001b[1;34m(self, key)\u001b[0m\n\u001b[0;32m   3803\u001b[0m \u001b[38;5;28;01mif\u001b[39;00m \u001b[38;5;28mself\u001b[39m\u001b[38;5;241m.\u001b[39mcolumns\u001b[38;5;241m.\u001b[39mnlevels \u001b[38;5;241m>\u001b[39m \u001b[38;5;241m1\u001b[39m:\n\u001b[0;32m   3804\u001b[0m     \u001b[38;5;28;01mreturn\u001b[39;00m \u001b[38;5;28mself\u001b[39m\u001b[38;5;241m.\u001b[39m_getitem_multilevel(key)\n\u001b[1;32m-> 3805\u001b[0m indexer \u001b[38;5;241m=\u001b[39m \u001b[38;5;28;43mself\u001b[39;49m\u001b[38;5;241;43m.\u001b[39;49m\u001b[43mcolumns\u001b[49m\u001b[38;5;241;43m.\u001b[39;49m\u001b[43mget_loc\u001b[49m\u001b[43m(\u001b[49m\u001b[43mkey\u001b[49m\u001b[43m)\u001b[49m\n\u001b[0;32m   3806\u001b[0m \u001b[38;5;28;01mif\u001b[39;00m is_integer(indexer):\n\u001b[0;32m   3807\u001b[0m     indexer \u001b[38;5;241m=\u001b[39m [indexer]\n",
      "File \u001b[1;32m~\\AppData\\Local\\Programs\\Python\\Python310\\lib\\site-packages\\pandas\\core\\indexes\\base.py:3802\u001b[0m, in \u001b[0;36mIndex.get_loc\u001b[1;34m(self, key, method, tolerance)\u001b[0m\n\u001b[0;32m   3800\u001b[0m     \u001b[38;5;28;01mreturn\u001b[39;00m \u001b[38;5;28mself\u001b[39m\u001b[38;5;241m.\u001b[39m_engine\u001b[38;5;241m.\u001b[39mget_loc(casted_key)\n\u001b[0;32m   3801\u001b[0m \u001b[38;5;28;01mexcept\u001b[39;00m \u001b[38;5;167;01mKeyError\u001b[39;00m \u001b[38;5;28;01mas\u001b[39;00m err:\n\u001b[1;32m-> 3802\u001b[0m     \u001b[38;5;28;01mraise\u001b[39;00m \u001b[38;5;167;01mKeyError\u001b[39;00m(key) \u001b[38;5;28;01mfrom\u001b[39;00m \u001b[38;5;21;01merr\u001b[39;00m\n\u001b[0;32m   3803\u001b[0m \u001b[38;5;28;01mexcept\u001b[39;00m \u001b[38;5;167;01mTypeError\u001b[39;00m:\n\u001b[0;32m   3804\u001b[0m     \u001b[38;5;66;03m# If we have a listlike key, _check_indexing_error will raise\u001b[39;00m\n\u001b[0;32m   3805\u001b[0m     \u001b[38;5;66;03m#  InvalidIndexError. Otherwise we fall through and re-raise\u001b[39;00m\n\u001b[0;32m   3806\u001b[0m     \u001b[38;5;66;03m#  the TypeError.\u001b[39;00m\n\u001b[0;32m   3807\u001b[0m     \u001b[38;5;28mself\u001b[39m\u001b[38;5;241m.\u001b[39m_check_indexing_error(key)\n",
      "\u001b[1;31mKeyError\u001b[0m: 'svr_kernel'"
     ]
    }
   ],
   "source": [
    "ax = var[(var['svr kernel'] == 'poly')|(var['svr kernel']=='linear')],plot(x='svr kernel',y='rmse')\n",
    "ax.set_ylabel('SVR') #Labeling y-axis\n",
    "ax.set_xlabel('RMSE') #Labeling x-axis\n",
    "ax.set_title('Trial') # Adding the title\n",
    "\n"
   ]
  },
  {
   "cell_type": "code",
   "execution_count": null,
   "id": "878de4c9",
   "metadata": {},
   "outputs": [],
   "source": []
  }
 ],
 "metadata": {
  "kernelspec": {
   "display_name": "Python 3 (ipykernel)",
   "language": "python",
   "name": "python3"
  },
  "language_info": {
   "codemirror_mode": {
    "name": "ipython",
    "version": 3
   },
   "file_extension": ".py",
   "mimetype": "text/x-python",
   "name": "python",
   "nbconvert_exporter": "python",
   "pygments_lexer": "ipython3",
   "version": "3.10.7"
  }
 },
 "nbformat": 4,
 "nbformat_minor": 5
}
